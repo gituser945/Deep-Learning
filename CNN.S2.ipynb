{
 "cells": [
  {
   "cell_type": "markdown",
   "id": "magnetic-class",
   "metadata": {},
   "source": [
    "### CNN Model\n",
    "> Image Recognisation Model"
   ]
  },
  {
   "cell_type": "code",
   "execution_count": 44,
   "id": "established-tutorial",
   "metadata": {},
   "outputs": [],
   "source": [
    "# importing important libraries\n",
    "\n",
    "import numpy as np\n",
    "from keras.models import Sequential\n",
    "from keras.layers import Conv2D\n",
    "from keras.layers import MaxPool2D\n",
    "from keras.layers import Flatten\n",
    "from keras.layers import Dense\n",
    "from keras.preprocessing import image\n",
    "from keras.preprocessing.image import ImageDataGenerator"
   ]
  },
  {
   "cell_type": "code",
   "execution_count": 45,
   "id": "selected-saying",
   "metadata": {},
   "outputs": [],
   "source": [
    "# Initializing the CNN\n",
    "\n",
    "cnn = Sequential()"
   ]
  },
  {
   "cell_type": "code",
   "execution_count": 46,
   "id": "proof-capture",
   "metadata": {},
   "outputs": [],
   "source": [
    "# creating convolution layer 1\n",
    "\n",
    "cnn.add(Conv2D(32,(3,3),input_shape = (64,64,3),activation = 'relu'))"
   ]
  },
  {
   "cell_type": "code",
   "execution_count": 47,
   "id": "received-surprise",
   "metadata": {},
   "outputs": [],
   "source": [
    "# creating pooling layer 2\n",
    "\n",
    "cnn.add(MaxPool2D(pool_size = (2,2)))"
   ]
  },
  {
   "cell_type": "code",
   "execution_count": 48,
   "id": "laden-butterfly",
   "metadata": {},
   "outputs": [],
   "source": [
    "# creating convolution layer 3\n",
    "\n",
    "cnn.add(Conv2D(32,(3,3), activation = 'relu'))"
   ]
  },
  {
   "cell_type": "code",
   "execution_count": 49,
   "id": "imperial-combining",
   "metadata": {},
   "outputs": [],
   "source": [
    "# creating pooling layer 4\n",
    "\n",
    "cnn.add(MaxPool2D(pool_size = (2,2)))"
   ]
  },
  {
   "cell_type": "code",
   "execution_count": 50,
   "id": "noted-syndicate",
   "metadata": {},
   "outputs": [],
   "source": [
    "# creating Flatten layer to convert matrix into array\n",
    "\n",
    "cnn.add(Flatten())"
   ]
  },
  {
   "cell_type": "code",
   "execution_count": 51,
   "id": "representative-standard",
   "metadata": {},
   "outputs": [],
   "source": [
    "# creating Feed forward network\n",
    "\n",
    "cnn.add(Dense(units = 128,activation = 'relu'))"
   ]
  },
  {
   "cell_type": "code",
   "execution_count": 81,
   "id": "funded-aberdeen",
   "metadata": {},
   "outputs": [],
   "source": [
    "# creating output layer\n",
    "\n",
    "cnn.add(Dense(units = 4,activation = 'softmax'))"
   ]
  },
  {
   "cell_type": "code",
   "execution_count": 113,
   "id": "differential-present",
   "metadata": {},
   "outputs": [],
   "source": [
    "# compiling CNN model\n",
    "\n",
    "cnn.compile(optimizer = 'adam',loss = 'categorical_crossentropy',metrics = ['accuracy'])"
   ]
  },
  {
   "cell_type": "code",
   "execution_count": 114,
   "id": "imported-schema",
   "metadata": {},
   "outputs": [],
   "source": [
    "# fitting cnn to image\n",
    "\n",
    "train_data = ImageDataGenerator(rescale = 1./255,shear_range = 0.2,zoom_range = 0.2,horizontal_flip = True)\n",
    "test_data = ImageDataGenerator(rescale = 1./255)"
   ]
  },
  {
   "cell_type": "code",
   "execution_count": 117,
   "id": "sporting-links",
   "metadata": {},
   "outputs": [
    {
     "name": "stdout",
     "output_type": "stream",
     "text": [
      "Found 35 images belonging to 4 classes.\n",
      "Found 35 images belonging to 4 classes.\n"
     ]
    }
   ],
   "source": [
    "# creating training and test data\n",
    "\n",
    "train_set = train_data.flow_from_directory('/Users/nick/Desktop/Ineuron/Deep Learning/CNN 1/Training Images',\n",
    "                                           target_size = (64,64),batch_size = 3)\n",
    "test_set = train_data.flow_from_directory('/Users/nick/Desktop/Ineuron/Deep Learning/CNN 1/Training Images',\n",
    "                                           target_size = (64,64),batch_size = 3)"
   ]
  },
  {
   "cell_type": "code",
   "execution_count": 118,
   "id": "studied-uncertainty",
   "metadata": {},
   "outputs": [
    {
     "name": "stdout",
     "output_type": "stream",
     "text": [
      "Epoch 1/100\n",
      "11/11 [==============================] - 2s 142ms/step - loss: 1.3672 - accuracy: 0.3125 - val_loss: 1.2913 - val_accuracy: 0.4444\n",
      "Epoch 2/100\n",
      "11/11 [==============================] - 1s 122ms/step - loss: 1.3656 - accuracy: 0.2812 - val_loss: 1.3423 - val_accuracy: 0.4444\n",
      "Epoch 3/100\n",
      "11/11 [==============================] - 1s 117ms/step - loss: 1.3494 - accuracy: 0.3125 - val_loss: 1.2827 - val_accuracy: 0.4444\n",
      "Epoch 4/100\n",
      "11/11 [==============================] - 1s 124ms/step - loss: 1.3766 - accuracy: 0.2812 - val_loss: 1.4265 - val_accuracy: 0.2222\n",
      "Epoch 5/100\n",
      "11/11 [==============================] - 2s 143ms/step - loss: 1.3749 - accuracy: 0.2500 - val_loss: 1.3359 - val_accuracy: 0.3333\n",
      "Epoch 6/100\n",
      "11/11 [==============================] - 2s 144ms/step - loss: 1.3508 - accuracy: 0.3030 - val_loss: 1.3882 - val_accuracy: 0.3333\n",
      "Epoch 7/100\n",
      "11/11 [==============================] - 1s 117ms/step - loss: 1.3609 - accuracy: 0.2812 - val_loss: 1.2362 - val_accuracy: 0.4444\n",
      "Epoch 8/100\n",
      "11/11 [==============================] - 1s 127ms/step - loss: 1.3460 - accuracy: 0.3125 - val_loss: 1.2852 - val_accuracy: 0.3333\n",
      "Epoch 9/100\n",
      "11/11 [==============================] - 1s 116ms/step - loss: 1.3744 - accuracy: 0.2812 - val_loss: 1.4236 - val_accuracy: 0.1111\n",
      "Epoch 10/100\n",
      "11/11 [==============================] - 1s 118ms/step - loss: 1.3568 - accuracy: 0.2812 - val_loss: 1.4302 - val_accuracy: 0.2222\n",
      "Epoch 11/100\n",
      "11/11 [==============================] - 1s 111ms/step - loss: 1.3728 - accuracy: 0.2812 - val_loss: 1.3283 - val_accuracy: 0.3333\n",
      "Epoch 12/100\n",
      "11/11 [==============================] - 1s 111ms/step - loss: 1.3707 - accuracy: 0.2812 - val_loss: 1.3729 - val_accuracy: 0.2222\n",
      "Epoch 13/100\n",
      "11/11 [==============================] - 1s 116ms/step - loss: 1.3605 - accuracy: 0.3125 - val_loss: 1.3280 - val_accuracy: 0.3333\n",
      "Epoch 14/100\n",
      "11/11 [==============================] - 1s 118ms/step - loss: 1.3712 - accuracy: 0.2812 - val_loss: 1.2611 - val_accuracy: 0.5556\n",
      "Epoch 15/100\n",
      "11/11 [==============================] - 1s 115ms/step - loss: 1.3707 - accuracy: 0.2812 - val_loss: 1.3224 - val_accuracy: 0.3333\n",
      "Epoch 16/100\n",
      "11/11 [==============================] - 1s 120ms/step - loss: 1.3599 - accuracy: 0.3125 - val_loss: 1.3218 - val_accuracy: 0.3333\n",
      "Epoch 17/100\n",
      "11/11 [==============================] - 1s 118ms/step - loss: 1.3703 - accuracy: 0.2812 - val_loss: 1.4450 - val_accuracy: 0.3333\n",
      "Epoch 18/100\n",
      "11/11 [==============================] - 1s 113ms/step - loss: 1.3524 - accuracy: 0.2812 - val_loss: 1.4189 - val_accuracy: 0.2222\n",
      "Epoch 19/100\n",
      "11/11 [==============================] - 1s 113ms/step - loss: 1.3681 - accuracy: 0.2727 - val_loss: 1.3892 - val_accuracy: 0.3333\n",
      "Epoch 20/100\n",
      "11/11 [==============================] - 1s 114ms/step - loss: 1.3686 - accuracy: 0.2812 - val_loss: 1.2691 - val_accuracy: 0.3333\n",
      "Epoch 21/100\n",
      "11/11 [==============================] - 1s 116ms/step - loss: 1.3440 - accuracy: 0.3030 - val_loss: 1.3594 - val_accuracy: 0.2222\n",
      "Epoch 22/100\n",
      "11/11 [==============================] - 1s 112ms/step - loss: 1.3410 - accuracy: 0.3125 - val_loss: 1.3909 - val_accuracy: 0.1111\n",
      "Epoch 23/100\n",
      "11/11 [==============================] - 1s 115ms/step - loss: 1.3515 - accuracy: 0.2812 - val_loss: 1.3581 - val_accuracy: 0.2222\n",
      "Epoch 24/100\n",
      "11/11 [==============================] - 1s 133ms/step - loss: 1.3435 - accuracy: 0.3125 - val_loss: 1.3618 - val_accuracy: 0.2222\n",
      "Epoch 25/100\n",
      "11/11 [==============================] - 1s 116ms/step - loss: 1.3674 - accuracy: 0.2812 - val_loss: 1.3003 - val_accuracy: 0.4444\n",
      "Epoch 26/100\n",
      "11/11 [==============================] - 2s 142ms/step - loss: 1.3597 - accuracy: 0.3125 - val_loss: 1.4160 - val_accuracy: 0.2222\n",
      "Epoch 27/100\n",
      "11/11 [==============================] - 2s 154ms/step - loss: 1.3666 - accuracy: 0.2812 - val_loss: 1.3619 - val_accuracy: 0.4444\n",
      "Epoch 28/100\n",
      "11/11 [==============================] - 1s 138ms/step - loss: 1.3480 - accuracy: 0.2812 - val_loss: 1.4150 - val_accuracy: 0.2222\n",
      "Epoch 29/100\n",
      "11/11 [==============================] - 2s 142ms/step - loss: 1.3660 - accuracy: 0.2727 - val_loss: 1.3307 - val_accuracy: 0.3333\n",
      "Epoch 30/100\n",
      "11/11 [==============================] - 1s 125ms/step - loss: 1.3673 - accuracy: 0.2812 - val_loss: 1.4318 - val_accuracy: 0.1111\n",
      "Epoch 31/100\n",
      "11/11 [==============================] - 1s 140ms/step - loss: 1.3715 - accuracy: 0.2500 - val_loss: 1.3261 - val_accuracy: 0.3333\n",
      "Epoch 32/100\n",
      "11/11 [==============================] - 1s 125ms/step - loss: 1.3583 - accuracy: 0.3030 - val_loss: 1.3880 - val_accuracy: 0.3333\n",
      "Epoch 33/100\n",
      "11/11 [==============================] - 1s 139ms/step - loss: 1.3663 - accuracy: 0.2812 - val_loss: 1.3919 - val_accuracy: 0.3333\n",
      "Epoch 34/100\n",
      "11/11 [==============================] - 2s 170ms/step - loss: 1.3641 - accuracy: 0.2727 - val_loss: 1.3682 - val_accuracy: 0.4444\n",
      "Epoch 35/100\n",
      "11/11 [==============================] - 2s 154ms/step - loss: 1.3469 - accuracy: 0.2812 - val_loss: 1.3894 - val_accuracy: 0.3333\n",
      "Epoch 36/100\n",
      "11/11 [==============================] - 1s 122ms/step - loss: 1.3705 - accuracy: 0.2500 - val_loss: 1.2167 - val_accuracy: 0.5556\n",
      "Epoch 37/100\n",
      "11/11 [==============================] - 1s 135ms/step - loss: 1.3516 - accuracy: 0.2500 - val_loss: 1.2404 - val_accuracy: 0.4444\n",
      "Epoch 38/100\n",
      "11/11 [==============================] - 2s 152ms/step - loss: 1.3398 - accuracy: 0.3125 - val_loss: 1.4580 - val_accuracy: 0.3333\n",
      "Epoch 39/100\n",
      "11/11 [==============================] - 1s 125ms/step - loss: 1.3642 - accuracy: 0.2812 - val_loss: 1.4111 - val_accuracy: 0.2222\n",
      "Epoch 40/100\n",
      "11/11 [==============================] - 1s 132ms/step - loss: 1.3402 - accuracy: 0.3125 - val_loss: 1.3097 - val_accuracy: 0.4444\n",
      "Epoch 41/100\n",
      "11/11 [==============================] - 2s 196ms/step - loss: 1.3687 - accuracy: 0.2500 - val_loss: 1.3114 - val_accuracy: 0.4444\n",
      "Epoch 42/100\n",
      "11/11 [==============================] - 1s 122ms/step - loss: 1.3392 - accuracy: 0.3125 - val_loss: 1.2619 - val_accuracy: 0.3333\n",
      "Epoch 43/100\n",
      "11/11 [==============================] - 1s 122ms/step - loss: 1.3630 - accuracy: 0.2812 - val_loss: 1.3457 - val_accuracy: 0.2222\n",
      "Epoch 44/100\n",
      "11/11 [==============================] - 1s 135ms/step - loss: 1.3633 - accuracy: 0.2812 - val_loss: 1.2587 - val_accuracy: 0.3333\n",
      "Epoch 45/100\n",
      "11/11 [==============================] - 1s 123ms/step - loss: 1.3202 - accuracy: 0.3030 - val_loss: 1.3127 - val_accuracy: 0.4444\n",
      "Epoch 46/100\n",
      "11/11 [==============================] - 1s 122ms/step - loss: 1.3438 - accuracy: 0.2812 - val_loss: 1.2429 - val_accuracy: 0.4444\n",
      "Epoch 47/100\n",
      "11/11 [==============================] - 1s 119ms/step - loss: 1.3393 - accuracy: 0.3125 - val_loss: 1.4250 - val_accuracy: 0.1111\n",
      "Epoch 48/100\n",
      "11/11 [==============================] - 1s 123ms/step - loss: 1.3431 - accuracy: 0.2812 - val_loss: 1.2458 - val_accuracy: 0.4444\n",
      "Epoch 49/100\n",
      "11/11 [==============================] - 1s 126ms/step - loss: 1.3583 - accuracy: 0.3125 - val_loss: 1.3392 - val_accuracy: 0.2222\n",
      "Epoch 50/100\n",
      "11/11 [==============================] - 2s 177ms/step - loss: 1.3434 - accuracy: 0.2812 - val_loss: 1.3831 - val_accuracy: 0.4444\n",
      "Epoch 51/100\n",
      "11/11 [==============================] - 2s 160ms/step - loss: 1.3627 - accuracy: 0.2812 - val_loss: 1.2847 - val_accuracy: 0.1111\n",
      "Epoch 52/100\n",
      "11/11 [==============================] - 2s 149ms/step - loss: 1.3627 - accuracy: 0.2812 - val_loss: 1.3393 - val_accuracy: 0.2222\n",
      "Epoch 53/100\n",
      "11/11 [==============================] - 2s 151ms/step - loss: 1.3627 - accuracy: 0.2812 - val_loss: 1.3837 - val_accuracy: 0.4444\n",
      "Epoch 54/100\n",
      "11/11 [==============================] - 2s 160ms/step - loss: 1.3622 - accuracy: 0.2812 - val_loss: 1.3295 - val_accuracy: 0.3333\n",
      "Epoch 55/100\n",
      "11/11 [==============================] - 1s 121ms/step - loss: 1.3635 - accuracy: 0.2424 - val_loss: 1.3858 - val_accuracy: 0.4444\n",
      "Epoch 56/100\n",
      "11/11 [==============================] - 1s 118ms/step - loss: 1.3584 - accuracy: 0.3125 - val_loss: 1.3386 - val_accuracy: 0.2222\n",
      "Epoch 57/100\n",
      "11/11 [==============================] - 1s 124ms/step - loss: 1.3388 - accuracy: 0.3125 - val_loss: 1.3178 - val_accuracy: 0.4444\n",
      "Epoch 58/100\n",
      "11/11 [==============================] - 1s 122ms/step - loss: 1.3591 - accuracy: 0.3125 - val_loss: 1.3292 - val_accuracy: 0.3333\n",
      "Epoch 59/100\n",
      "11/11 [==============================] - 1s 116ms/step - loss: 1.3625 - accuracy: 0.2812 - val_loss: 1.2369 - val_accuracy: 0.5556\n",
      "Epoch 60/100\n",
      "11/11 [==============================] - 1s 116ms/step - loss: 1.3583 - accuracy: 0.3125 - val_loss: 1.3288 - val_accuracy: 0.3333\n",
      "Epoch 61/100\n",
      "11/11 [==============================] - 1s 121ms/step - loss: 1.3429 - accuracy: 0.2812 - val_loss: 1.4546 - val_accuracy: 0.4444\n",
      "Epoch 62/100\n",
      "11/11 [==============================] - 1s 117ms/step - loss: 1.3586 - accuracy: 0.3125 - val_loss: 1.4783 - val_accuracy: 0.2222\n",
      "Epoch 63/100\n",
      "11/11 [==============================] - 1s 114ms/step - loss: 1.3425 - accuracy: 0.2812 - val_loss: 1.4785 - val_accuracy: 0.2222\n",
      "Epoch 64/100\n",
      "11/11 [==============================] - 1s 117ms/step - loss: 1.3626 - accuracy: 0.2812 - val_loss: 1.4097 - val_accuracy: 0.2222\n",
      "Epoch 65/100\n",
      "11/11 [==============================] - 1s 126ms/step - loss: 1.3619 - accuracy: 0.2812 - val_loss: 1.3637 - val_accuracy: 0.0000e+00\n",
      "Epoch 66/100\n",
      "11/11 [==============================] - 1s 115ms/step - loss: 1.3587 - accuracy: 0.3125 - val_loss: 1.2574 - val_accuracy: 0.3333\n",
      "Epoch 67/100\n",
      "11/11 [==============================] - 1s 118ms/step - loss: 1.3387 - accuracy: 0.3125 - val_loss: 1.2445 - val_accuracy: 0.4444\n",
      "Epoch 68/100\n",
      "11/11 [==============================] - 1s 118ms/step - loss: 1.3615 - accuracy: 0.2812 - val_loss: 1.4077 - val_accuracy: 0.2222\n",
      "Epoch 69/100\n",
      "11/11 [==============================] - 1s 120ms/step - loss: 1.3644 - accuracy: 0.2500 - val_loss: 1.3309 - val_accuracy: 0.3333\n",
      "Epoch 70/100\n",
      "11/11 [==============================] - 1s 116ms/step - loss: 1.3647 - accuracy: 0.2500 - val_loss: 1.4072 - val_accuracy: 0.2222\n",
      "Epoch 71/100\n",
      "11/11 [==============================] - 1s 124ms/step - loss: 1.3621 - accuracy: 0.2812 - val_loss: 1.4155 - val_accuracy: 0.1111\n",
      "Epoch 72/100\n",
      "11/11 [==============================] - 1s 118ms/step - loss: 1.3590 - accuracy: 0.3125 - val_loss: 1.3899 - val_accuracy: 0.4444\n",
      "Epoch 73/100\n",
      "11/11 [==============================] - 1s 132ms/step - loss: 1.3421 - accuracy: 0.2812 - val_loss: 1.3446 - val_accuracy: 0.1111\n",
      "Epoch 74/100\n",
      "11/11 [==============================] - 1s 122ms/step - loss: 1.3642 - accuracy: 0.2500 - val_loss: 1.3201 - val_accuracy: 0.4444\n",
      "Epoch 75/100\n",
      "11/11 [==============================] - 1s 118ms/step - loss: 1.3639 - accuracy: 0.2500 - val_loss: 1.3368 - val_accuracy: 0.2222\n",
      "Epoch 76/100\n",
      "11/11 [==============================] - 1s 114ms/step - loss: 1.3617 - accuracy: 0.2812 - val_loss: 1.3432 - val_accuracy: 0.1111\n",
      "Epoch 77/100\n",
      "11/11 [==============================] - 1s 115ms/step - loss: 1.3392 - accuracy: 0.3125 - val_loss: 1.3994 - val_accuracy: 0.3333\n",
      "Epoch 78/100\n",
      "11/11 [==============================] - 1s 122ms/step - loss: 1.3572 - accuracy: 0.3030 - val_loss: 1.3222 - val_accuracy: 0.4444\n",
      "Epoch 79/100\n",
      "11/11 [==============================] - 1s 117ms/step - loss: 1.3435 - accuracy: 0.2500 - val_loss: 1.3289 - val_accuracy: 0.3333\n",
      "Epoch 80/100\n",
      "11/11 [==============================] - 1s 124ms/step - loss: 1.3615 - accuracy: 0.2812 - val_loss: 1.2583 - val_accuracy: 0.3333\n",
      "Epoch 81/100\n",
      "11/11 [==============================] - 1s 118ms/step - loss: 1.3414 - accuracy: 0.2812 - val_loss: 1.3290 - val_accuracy: 0.3333\n",
      "Epoch 82/100\n",
      "11/11 [==============================] - 1s 117ms/step - loss: 1.3611 - accuracy: 0.2812 - val_loss: 1.2583 - val_accuracy: 0.3333\n",
      "Epoch 83/100\n",
      "11/11 [==============================] - 1s 117ms/step - loss: 1.3633 - accuracy: 0.2500 - val_loss: 1.2654 - val_accuracy: 0.2222\n",
      "Epoch 84/100\n",
      "11/11 [==============================] - 1s 115ms/step - loss: 1.3611 - accuracy: 0.2812 - val_loss: 1.3362 - val_accuracy: 0.2222\n",
      "Epoch 85/100\n",
      "11/11 [==============================] - 1s 115ms/step - loss: 1.3612 - accuracy: 0.2812 - val_loss: 1.4001 - val_accuracy: 0.3333\n",
      "Epoch 86/100\n",
      "11/11 [==============================] - 1s 115ms/step - loss: 1.3631 - accuracy: 0.2500 - val_loss: 1.2749 - val_accuracy: 0.0000e+00\n",
      "Epoch 87/100\n",
      "11/11 [==============================] - 1s 115ms/step - loss: 1.3625 - accuracy: 0.2500 - val_loss: 1.3348 - val_accuracy: 0.2222\n",
      "Epoch 88/100\n",
      "11/11 [==============================] - 1s 130ms/step - loss: 1.3398 - accuracy: 0.3125 - val_loss: 1.2589 - val_accuracy: 0.3333\n",
      "Epoch 89/100\n",
      "11/11 [==============================] - 1s 117ms/step - loss: 1.3411 - accuracy: 0.2812 - val_loss: 1.3249 - val_accuracy: 0.4444\n",
      "Epoch 90/100\n",
      "11/11 [==============================] - 1s 120ms/step - loss: 1.3412 - accuracy: 0.2812 - val_loss: 1.3252 - val_accuracy: 0.4444\n",
      "Epoch 91/100\n",
      "11/11 [==============================] - 1s 116ms/step - loss: 1.3410 - accuracy: 0.2812 - val_loss: 1.4064 - val_accuracy: 0.2222\n",
      "Epoch 92/100\n",
      "11/11 [==============================] - 1s 119ms/step - loss: 1.3397 - accuracy: 0.3125 - val_loss: 1.4152 - val_accuracy: 0.0000e+00\n",
      "Epoch 93/100\n",
      "11/11 [==============================] - 1s 120ms/step - loss: 1.3610 - accuracy: 0.2812 - val_loss: 1.3974 - val_accuracy: 0.4444\n",
      "Epoch 94/100\n",
      "11/11 [==============================] - 1s 118ms/step - loss: 1.3598 - accuracy: 0.3125 - val_loss: 1.3388 - val_accuracy: 0.1111\n",
      "Epoch 95/100\n",
      "11/11 [==============================] - 1s 116ms/step - loss: 1.3406 - accuracy: 0.2812 - val_loss: 1.4092 - val_accuracy: 0.1111\n",
      "Epoch 96/100\n",
      "11/11 [==============================] - 1s 129ms/step - loss: 1.3613 - accuracy: 0.2812 - val_loss: 1.3376 - val_accuracy: 0.1111\n",
      "Epoch 97/100\n",
      "11/11 [==============================] - 1s 119ms/step - loss: 1.3613 - accuracy: 0.2812 - val_loss: 1.3296 - val_accuracy: 0.3333\n",
      "Epoch 98/100\n",
      "11/11 [==============================] - 1s 119ms/step - loss: 1.3398 - accuracy: 0.3125 - val_loss: 1.2583 - val_accuracy: 0.3333\n",
      "Epoch 99/100\n",
      "11/11 [==============================] - 1s 119ms/step - loss: 1.3410 - accuracy: 0.2812 - val_loss: 1.4055 - val_accuracy: 0.2222\n",
      "Epoch 100/100\n",
      "11/11 [==============================] - 1s 118ms/step - loss: 1.3595 - accuracy: 0.2424 - val_loss: 1.3997 - val_accuracy: 0.4444\n"
     ]
    },
    {
     "data": {
      "text/plain": [
       "<tensorflow.python.keras.callbacks.History at 0x7fe48164f7f0>"
      ]
     },
     "execution_count": 118,
     "metadata": {},
     "output_type": "execute_result"
    }
   ],
   "source": [
    "# Fitting model\n",
    "\n",
    "cnn.fit_generator(train_set,\n",
    "                  steps_per_epoch = 11,\n",
    "                  epochs = 100,\n",
    "                  validation_data = test_set,\n",
    "                  validation_steps = 3)"
   ]
  },
  {
   "cell_type": "code",
   "execution_count": 123,
   "id": "incredible-prospect",
   "metadata": {},
   "outputs": [
    {
     "name": "stdout",
     "output_type": "stream",
     "text": [
      "Aaruti\n"
     ]
    }
   ],
   "source": [
    "# Predicting\n",
    "\n",
    "test_image = image.load_img('/Users/nick/Desktop/Ineuron/Deep Learning/CNN 1/Test Images/test2.jpg', \n",
    "                            target_size = (64, 64))\n",
    "test_image = image.img_to_array(test_image)\n",
    "test_image = np.expand_dims(test_image, axis = 0)\n",
    "result = cnn.predict(test_image)\n",
    "train_set.class_indices\n",
    "if result[0][0] <= 0.25:\n",
    "    prediction = 'Aamir'\n",
    "    print(prediction)\n",
    "elif result[0][0] > 0.25:\n",
    "    prediction = 'Aaruti'\n",
    "    print(prediction)\n",
    "elif result[0][0]== 2:\n",
    "    prediction = 'Anand'\n",
    "    print(prediction)\n",
    "elif result[0][0]== 3:\n",
    "    prediction = 'Aneesh'\n",
    "    print(prediction)\n",
    "else:\n",
    "    prediction = 'Unknown Person'\n",
    "    print(prediction)"
   ]
  },
  {
   "cell_type": "code",
   "execution_count": null,
   "id": "reverse-exception",
   "metadata": {},
   "outputs": [],
   "source": []
  }
 ],
 "metadata": {
  "kernelspec": {
   "display_name": "Python 3",
   "language": "python",
   "name": "python3"
  },
  "language_info": {
   "codemirror_mode": {
    "name": "ipython",
    "version": 3
   },
   "file_extension": ".py",
   "mimetype": "text/x-python",
   "name": "python",
   "nbconvert_exporter": "python",
   "pygments_lexer": "ipython3",
   "version": "3.8.0"
  }
 },
 "nbformat": 4,
 "nbformat_minor": 5
}
