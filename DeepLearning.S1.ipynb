{
 "cells": [
  {
   "cell_type": "markdown",
   "id": "constitutional-czech",
   "metadata": {},
   "source": [
    "### Deep Learning basic example \n",
    "> Simple demonstration of simple neural network without any tensorflow or pytorch library"
   ]
  },
  {
   "cell_type": "code",
   "execution_count": 140,
   "id": "significant-strength",
   "metadata": {},
   "outputs": [],
   "source": [
    "# importing packages\n",
    "\n",
    "import pandas as pd\n",
    "import numpy as np"
   ]
  },
  {
   "cell_type": "code",
   "execution_count": 141,
   "id": "juvenile-nutrition",
   "metadata": {},
   "outputs": [],
   "source": [
    "# Creating dataset AND\n",
    "\n",
    "df = pd.DataFrame({'x1':(0,0,1,1),'x2':(0,1,0,1),'y':(0,0,0,1)})"
   ]
  },
  {
   "cell_type": "code",
   "execution_count": 142,
   "id": "speaking-mouth",
   "metadata": {},
   "outputs": [
    {
     "data": {
      "text/html": [
       "<div>\n",
       "<style scoped>\n",
       "    .dataframe tbody tr th:only-of-type {\n",
       "        vertical-align: middle;\n",
       "    }\n",
       "\n",
       "    .dataframe tbody tr th {\n",
       "        vertical-align: top;\n",
       "    }\n",
       "\n",
       "    .dataframe thead th {\n",
       "        text-align: right;\n",
       "    }\n",
       "</style>\n",
       "<table border=\"1\" class=\"dataframe\">\n",
       "  <thead>\n",
       "    <tr style=\"text-align: right;\">\n",
       "      <th></th>\n",
       "      <th>x1</th>\n",
       "      <th>x2</th>\n",
       "      <th>y</th>\n",
       "    </tr>\n",
       "  </thead>\n",
       "  <tbody>\n",
       "    <tr>\n",
       "      <th>0</th>\n",
       "      <td>0</td>\n",
       "      <td>0</td>\n",
       "      <td>0</td>\n",
       "    </tr>\n",
       "    <tr>\n",
       "      <th>1</th>\n",
       "      <td>0</td>\n",
       "      <td>1</td>\n",
       "      <td>0</td>\n",
       "    </tr>\n",
       "    <tr>\n",
       "      <th>2</th>\n",
       "      <td>1</td>\n",
       "      <td>0</td>\n",
       "      <td>0</td>\n",
       "    </tr>\n",
       "    <tr>\n",
       "      <th>3</th>\n",
       "      <td>1</td>\n",
       "      <td>1</td>\n",
       "      <td>1</td>\n",
       "    </tr>\n",
       "  </tbody>\n",
       "</table>\n",
       "</div>"
      ],
      "text/plain": [
       "   x1  x2  y\n",
       "0   0   0  0\n",
       "1   0   1  0\n",
       "2   1   0  0\n",
       "3   1   1  1"
      ]
     },
     "execution_count": 142,
     "metadata": {},
     "output_type": "execute_result"
    }
   ],
   "source": [
    "# checking dataframe\n",
    "\n",
    "df"
   ]
  },
  {
   "cell_type": "code",
   "execution_count": 143,
   "id": "sweet-glucose",
   "metadata": {},
   "outputs": [
    {
     "data": {
      "text/plain": [
       "array([5.65296488e-05, 1.79527317e-05, 2.67552391e-05])"
      ]
     },
     "execution_count": 143,
     "metadata": {},
     "output_type": "execute_result"
    }
   ],
   "source": [
    "# create random numbers for weights\n",
    "\n",
    "w = np.random.randn(3)*1e-4\n",
    "w"
   ]
  },
  {
   "cell_type": "code",
   "execution_count": 144,
   "id": "caring-wrong",
   "metadata": {},
   "outputs": [],
   "source": [
    "# creating own activation function using lambda function\n",
    "\n",
    "g = lambda inputs,weights : np.where(np.dot(inputs,weights)>0,1,0)"
   ]
  },
  {
   "cell_type": "code",
   "execution_count": 145,
   "id": "killing-newsletter",
   "metadata": {},
   "outputs": [],
   "source": [
    "# creating own train function\n",
    "\n",
    "def train(inputs,targets,weights,eta,n_iteration):\n",
    "    inputs = np.c_[inputs,-np.ones((len(inputs),1))]\n",
    "    \n",
    "    for n in range(n_iteration):\n",
    "        activation = g(inputs,weights);\n",
    "        weights -= eta * np.dot(np.transpose(inputs),activation - targets)\n",
    "        print(inputs)\n",
    "        print(activation)\n",
    "        print(activation - targets)\n",
    "        print(weights)\n",
    "    return(weights)"
   ]
  },
  {
   "cell_type": "code",
   "execution_count": 146,
   "id": "permanent-reward",
   "metadata": {},
   "outputs": [
    {
     "name": "stdout",
     "output_type": "stream",
     "text": [
      "[[ 0.  0. -1.]\n",
      " [ 0.  1. -1.]\n",
      " [ 1.  0. -1.]\n",
      " [ 1.  1. -1.]]\n",
      "[0 0 1 1]\n",
      "0    0\n",
      "1    0\n",
      "2    1\n",
      "3    0\n",
      "Name: y, dtype: int64\n",
      "[-4.94347035e-03  1.79527317e-05  5.02675524e-03]\n",
      "[[ 0.  0. -1.]\n",
      " [ 0.  1. -1.]\n",
      " [ 1.  0. -1.]\n",
      " [ 1.  1. -1.]]\n",
      "[0 0 0 0]\n",
      "0    0\n",
      "1    0\n",
      "2    0\n",
      "3   -1\n",
      "Name: y, dtype: int64\n",
      "[5.65296488e-05 5.01795273e-03 2.67552391e-05]\n",
      "[[ 0.  0. -1.]\n",
      " [ 0.  1. -1.]\n",
      " [ 1.  0. -1.]\n",
      " [ 1.  1. -1.]]\n",
      "[0 1 1 1]\n",
      "0    0\n",
      "1    1\n",
      "2    1\n",
      "3    0\n",
      "Name: y, dtype: int64\n",
      "[-4.94347035e-03  1.79527317e-05  1.00267552e-02]\n",
      "[[ 0.  0. -1.]\n",
      " [ 0.  1. -1.]\n",
      " [ 1.  0. -1.]\n",
      " [ 1.  1. -1.]]\n",
      "[0 0 0 0]\n",
      "0    0\n",
      "1    0\n",
      "2    0\n",
      "3   -1\n",
      "Name: y, dtype: int64\n",
      "[5.65296488e-05 5.01795273e-03 5.02675524e-03]\n",
      "[[ 0.  0. -1.]\n",
      " [ 0.  1. -1.]\n",
      " [ 1.  0. -1.]\n",
      " [ 1.  1. -1.]]\n",
      "[0 0 0 1]\n",
      "0    0\n",
      "1    0\n",
      "2    0\n",
      "3    0\n",
      "Name: y, dtype: int64\n",
      "[5.65296488e-05 5.01795273e-03 5.02675524e-03]\n",
      "[[ 0.  0. -1.]\n",
      " [ 0.  1. -1.]\n",
      " [ 1.  0. -1.]\n",
      " [ 1.  1. -1.]]\n",
      "[0 0 0 1]\n",
      "0    0\n",
      "1    0\n",
      "2    0\n",
      "3    0\n",
      "Name: y, dtype: int64\n",
      "[5.65296488e-05 5.01795273e-03 5.02675524e-03]\n",
      "[[ 0.  0. -1.]\n",
      " [ 0.  1. -1.]\n",
      " [ 1.  0. -1.]\n",
      " [ 1.  1. -1.]]\n",
      "[0 0 0 1]\n",
      "0    0\n",
      "1    0\n",
      "2    0\n",
      "3    0\n",
      "Name: y, dtype: int64\n",
      "[5.65296488e-05 5.01795273e-03 5.02675524e-03]\n",
      "[[ 0.  0. -1.]\n",
      " [ 0.  1. -1.]\n",
      " [ 1.  0. -1.]\n",
      " [ 1.  1. -1.]]\n",
      "[0 0 0 1]\n",
      "0    0\n",
      "1    0\n",
      "2    0\n",
      "3    0\n",
      "Name: y, dtype: int64\n",
      "[5.65296488e-05 5.01795273e-03 5.02675524e-03]\n",
      "[[ 0.  0. -1.]\n",
      " [ 0.  1. -1.]\n",
      " [ 1.  0. -1.]\n",
      " [ 1.  1. -1.]]\n",
      "[0 0 0 1]\n",
      "0    0\n",
      "1    0\n",
      "2    0\n",
      "3    0\n",
      "Name: y, dtype: int64\n",
      "[5.65296488e-05 5.01795273e-03 5.02675524e-03]\n",
      "[[ 0.  0. -1.]\n",
      " [ 0.  1. -1.]\n",
      " [ 1.  0. -1.]\n",
      " [ 1.  1. -1.]]\n",
      "[0 0 0 1]\n",
      "0    0\n",
      "1    0\n",
      "2    0\n",
      "3    0\n",
      "Name: y, dtype: int64\n",
      "[5.65296488e-05 5.01795273e-03 5.02675524e-03]\n",
      "[[ 0.  0. -1.]\n",
      " [ 0.  1. -1.]\n",
      " [ 1.  0. -1.]\n",
      " [ 1.  1. -1.]]\n",
      "[0 0 0 1]\n",
      "0    0\n",
      "1    0\n",
      "2    0\n",
      "3    0\n",
      "Name: y, dtype: int64\n",
      "[5.65296488e-05 5.01795273e-03 5.02675524e-03]\n",
      "[[ 0.  0. -1.]\n",
      " [ 0.  1. -1.]\n",
      " [ 1.  0. -1.]\n",
      " [ 1.  1. -1.]]\n",
      "[0 0 0 1]\n",
      "0    0\n",
      "1    0\n",
      "2    0\n",
      "3    0\n",
      "Name: y, dtype: int64\n",
      "[5.65296488e-05 5.01795273e-03 5.02675524e-03]\n",
      "[[ 0.  0. -1.]\n",
      " [ 0.  1. -1.]\n",
      " [ 1.  0. -1.]\n",
      " [ 1.  1. -1.]]\n",
      "[0 0 0 1]\n",
      "0    0\n",
      "1    0\n",
      "2    0\n",
      "3    0\n",
      "Name: y, dtype: int64\n",
      "[5.65296488e-05 5.01795273e-03 5.02675524e-03]\n",
      "[[ 0.  0. -1.]\n",
      " [ 0.  1. -1.]\n",
      " [ 1.  0. -1.]\n",
      " [ 1.  1. -1.]]\n",
      "[0 0 0 1]\n",
      "0    0\n",
      "1    0\n",
      "2    0\n",
      "3    0\n",
      "Name: y, dtype: int64\n",
      "[5.65296488e-05 5.01795273e-03 5.02675524e-03]\n",
      "[[ 0.  0. -1.]\n",
      " [ 0.  1. -1.]\n",
      " [ 1.  0. -1.]\n",
      " [ 1.  1. -1.]]\n",
      "[0 0 0 1]\n",
      "0    0\n",
      "1    0\n",
      "2    0\n",
      "3    0\n",
      "Name: y, dtype: int64\n",
      "[5.65296488e-05 5.01795273e-03 5.02675524e-03]\n",
      "[[ 0.  0. -1.]\n",
      " [ 0.  1. -1.]\n",
      " [ 1.  0. -1.]\n",
      " [ 1.  1. -1.]]\n",
      "[0 0 0 1]\n",
      "0    0\n",
      "1    0\n",
      "2    0\n",
      "3    0\n",
      "Name: y, dtype: int64\n",
      "[5.65296488e-05 5.01795273e-03 5.02675524e-03]\n",
      "[[ 0.  0. -1.]\n",
      " [ 0.  1. -1.]\n",
      " [ 1.  0. -1.]\n",
      " [ 1.  1. -1.]]\n",
      "[0 0 0 1]\n",
      "0    0\n",
      "1    0\n",
      "2    0\n",
      "3    0\n",
      "Name: y, dtype: int64\n",
      "[5.65296488e-05 5.01795273e-03 5.02675524e-03]\n",
      "[[ 0.  0. -1.]\n",
      " [ 0.  1. -1.]\n",
      " [ 1.  0. -1.]\n",
      " [ 1.  1. -1.]]\n",
      "[0 0 0 1]\n",
      "0    0\n",
      "1    0\n",
      "2    0\n",
      "3    0\n",
      "Name: y, dtype: int64\n",
      "[5.65296488e-05 5.01795273e-03 5.02675524e-03]\n",
      "[[ 0.  0. -1.]\n",
      " [ 0.  1. -1.]\n",
      " [ 1.  0. -1.]\n",
      " [ 1.  1. -1.]]\n",
      "[0 0 0 1]\n",
      "0    0\n",
      "1    0\n",
      "2    0\n",
      "3    0\n",
      "Name: y, dtype: int64\n",
      "[5.65296488e-05 5.01795273e-03 5.02675524e-03]\n",
      "[[ 0.  0. -1.]\n",
      " [ 0.  1. -1.]\n",
      " [ 1.  0. -1.]\n",
      " [ 1.  1. -1.]]\n",
      "[0 0 0 1]\n",
      "0    0\n",
      "1    0\n",
      "2    0\n",
      "3    0\n",
      "Name: y, dtype: int64\n",
      "[5.65296488e-05 5.01795273e-03 5.02675524e-03]\n"
     ]
    }
   ],
   "source": [
    "inputs = df[['x1','x2']]\n",
    "target = df['y']\n",
    "\n",
    "w = train(inputs,target,w,0.005,20)"
   ]
  },
  {
   "cell_type": "code",
   "execution_count": 123,
   "id": "capital-wholesale",
   "metadata": {},
   "outputs": [
    {
     "data": {
      "text/plain": [
       "array([ 9.56005316e-06, -1.07119050e-06,  1.00162114e-02])"
      ]
     },
     "execution_count": 123,
     "metadata": {},
     "output_type": "execute_result"
    }
   ],
   "source": [
    "w"
   ]
  },
  {
   "cell_type": "code",
   "execution_count": 124,
   "id": "stock-strengthening",
   "metadata": {},
   "outputs": [
    {
     "data": {
      "text/plain": [
       "array([0, 0, 0, 0])"
      ]
     },
     "execution_count": 124,
     "metadata": {},
     "output_type": "execute_result"
    }
   ],
   "source": [
    "g(np.c_[inputs,-np.ones((len(inputs),1))],w)"
   ]
  },
  {
   "cell_type": "code",
   "execution_count": 101,
   "id": "provincial-surface",
   "metadata": {},
   "outputs": [],
   "source": [
    "# now changing learning rate and iteration\n",
    "\n",
    "w = train(inputs,target,w,0.0001,2)"
   ]
  },
  {
   "cell_type": "code",
   "execution_count": 102,
   "id": "adolescent-width",
   "metadata": {},
   "outputs": [
    {
     "data": {
      "text/plain": [
       "array([0.25005755, 0.25001096, 0.49990957])"
      ]
     },
     "execution_count": 102,
     "metadata": {},
     "output_type": "execute_result"
    }
   ],
   "source": [
    "w"
   ]
  },
  {
   "cell_type": "code",
   "execution_count": 96,
   "id": "brave-venezuela",
   "metadata": {},
   "outputs": [
    {
     "data": {
      "text/plain": [
       "array([0, 0, 0, 1])"
      ]
     },
     "execution_count": 96,
     "metadata": {},
     "output_type": "execute_result"
    }
   ],
   "source": [
    "g(np.c_[inputs,-np.ones((len(inputs),1))],w)"
   ]
  }
 ],
 "metadata": {
  "kernelspec": {
   "display_name": "Python 3",
   "language": "python",
   "name": "python3"
  },
  "language_info": {
   "codemirror_mode": {
    "name": "ipython",
    "version": 3
   },
   "file_extension": ".py",
   "mimetype": "text/x-python",
   "name": "python",
   "nbconvert_exporter": "python",
   "pygments_lexer": "ipython3",
   "version": "3.8.0"
  }
 },
 "nbformat": 4,
 "nbformat_minor": 5
}
