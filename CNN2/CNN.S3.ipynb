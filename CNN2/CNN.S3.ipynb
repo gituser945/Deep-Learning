{
 "cells": [
  {
   "cell_type": "markdown",
   "id": "checked-opposition",
   "metadata": {},
   "source": [
    "### LENET Implementation"
   ]
  },
  {
   "cell_type": "code",
   "execution_count": 45,
   "id": "aware-trailer",
   "metadata": {},
   "outputs": [],
   "source": [
    "# importing packages\n",
    "\n",
    "import keras\n",
    "from keras.datasets import mnist\n",
    "from keras.layers import Conv2D,Dense,MaxPooling2D,Flatten\n",
    "from keras.models import Sequential"
   ]
  },
  {
   "cell_type": "code",
   "execution_count": 32,
   "id": "hollywood-conjunction",
   "metadata": {},
   "outputs": [],
   "source": [
    "# loading the dataset\n",
    "\n",
    "(x_train,y_train),(x_test,y_test) = mnist.load_data()"
   ]
  },
  {
   "cell_type": "code",
   "execution_count": 33,
   "id": "junior-humanity",
   "metadata": {},
   "outputs": [],
   "source": [
    "# reshaping data\n",
    "\n",
    "x_train = x_train.reshape(x_train.shape[0],28,28,1)\n",
    "x_test = x_test.reshape(x_test.shape[0],28,28,1)"
   ]
  },
  {
   "cell_type": "code",
   "execution_count": 34,
   "id": "unnecessary-restoration",
   "metadata": {},
   "outputs": [],
   "source": [
    "# Normalizing the dataset means changing the color image into greyscale\n",
    "\n",
    "x_train = x_train/255\n",
    "x_test = x_test/255"
   ]
  },
  {
   "cell_type": "code",
   "execution_count": 35,
   "id": "proud-settlement",
   "metadata": {},
   "outputs": [],
   "source": [
    "# one hot encoding\n",
    "\n",
    "y_train = keras.utils.to_categorical(y_train,10)\n",
    "y_test = keras.utils.to_categorical(y_test,10)"
   ]
  },
  {
   "cell_type": "code",
   "execution_count": 36,
   "id": "literary-trick",
   "metadata": {},
   "outputs": [],
   "source": [
    "# creating sequential model\n",
    "\n",
    "model = Sequential()"
   ]
  },
  {
   "cell_type": "code",
   "execution_count": 37,
   "id": "experimental-league",
   "metadata": {},
   "outputs": [],
   "source": [
    "# Adding convolution layer\n",
    "\n",
    "model.add(Conv2D(6,kernel_size = (5,5),activation = 'relu',input_shape = (28,28,1)))"
   ]
  },
  {
   "cell_type": "code",
   "execution_count": 38,
   "id": "starting-assurance",
   "metadata": {},
   "outputs": [],
   "source": [
    "# Adding Pooling layer\n",
    "\n",
    "model.add(MaxPooling2D(pool_size = (2,2)))"
   ]
  },
  {
   "cell_type": "code",
   "execution_count": 39,
   "id": "reflected-ontario",
   "metadata": {},
   "outputs": [],
   "source": [
    "# adding convolution layer\n",
    "\n",
    "model.add(Conv2D(16,kernel_size = (5,5),activation = 'relu'))"
   ]
  },
  {
   "cell_type": "code",
   "execution_count": 40,
   "id": "returning-deadline",
   "metadata": {},
   "outputs": [],
   "source": [
    "# adding pooling layer\n",
    "\n",
    "model.add(MaxPooling2D(pool_size = (2,2)))"
   ]
  },
  {
   "cell_type": "code",
   "execution_count": 41,
   "id": "mediterranean-mouse",
   "metadata": {},
   "outputs": [],
   "source": [
    "# Creating flatten layer\n",
    "\n",
    "model.add(Flatten())"
   ]
  },
  {
   "cell_type": "code",
   "execution_count": 42,
   "id": "unable-field",
   "metadata": {},
   "outputs": [],
   "source": [
    "# Creating Dense layer\n",
    "\n",
    "model.add(Dense(120,activation = 'relu'))\n",
    "model.add(Dense(84,activation = 'relu'))\n",
    "model.add(Dense(10,activation = 'softmax'))"
   ]
  },
  {
   "cell_type": "code",
   "execution_count": 48,
   "id": "romance-custom",
   "metadata": {},
   "outputs": [],
   "source": [
    "# compiling the model\n",
    "\n",
    "model.compile(loss = keras.metrics.categorical_crossentropy,optimizer = keras.optimizers.Adam(),metrics = ['accuracy'])"
   ]
  },
  {
   "cell_type": "code",
   "execution_count": null,
   "id": "neither-sessions",
   "metadata": {},
   "outputs": [
    {
     "name": "stdout",
     "output_type": "stream",
     "text": [
      "Epoch 1/20\n",
      "469/469 [==============================] - 16s 32ms/step - loss: 0.0070 - accuracy: 0.9977 - val_loss: 0.0435 - val_accuracy: 0.9899\n",
      "Epoch 2/20\n",
      "469/469 [==============================] - 15s 33ms/step - loss: 0.0054 - accuracy: 0.9982 - val_loss: 0.0543 - val_accuracy: 0.9894\n",
      "Epoch 3/20\n",
      "469/469 [==============================] - 15s 32ms/step - loss: 0.0052 - accuracy: 0.9983 - val_loss: 0.0473 - val_accuracy: 0.9916\n",
      "Epoch 4/20\n",
      "469/469 [==============================] - 15s 33ms/step - loss: 0.0066 - accuracy: 0.9979 - val_loss: 0.0457 - val_accuracy: 0.9903\n",
      "Epoch 5/20\n",
      "469/469 [==============================] - 15s 32ms/step - loss: 0.0062 - accuracy: 0.9981 - val_loss: 0.0432 - val_accuracy: 0.9912\n",
      "Epoch 6/20\n",
      "469/469 [==============================] - 15s 32ms/step - loss: 0.0055 - accuracy: 0.9981 - val_loss: 0.0395 - val_accuracy: 0.9911\n",
      "Epoch 7/20\n",
      "469/469 [==============================] - 15s 33ms/step - loss: 0.0040 - accuracy: 0.9985 - val_loss: 0.0532 - val_accuracy: 0.9896\n",
      "Epoch 8/20\n",
      "469/469 [==============================] - 15s 31ms/step - loss: 0.0046 - accuracy: 0.9984 - val_loss: 0.0532 - val_accuracy: 0.9894\n",
      "Epoch 9/20\n",
      "469/469 [==============================] - 15s 31ms/step - loss: 0.0028 - accuracy: 0.9991 - val_loss: 0.0499 - val_accuracy: 0.9904\n",
      "Epoch 10/20\n",
      "469/469 [==============================] - 17s 35ms/step - loss: 0.0043 - accuracy: 0.9984 - val_loss: 0.0531 - val_accuracy: 0.9898\n",
      "Epoch 11/20\n",
      "469/469 [==============================] - 15s 32ms/step - loss: 0.0035 - accuracy: 0.9989 - val_loss: 0.0423 - val_accuracy: 0.9919\n",
      "Epoch 12/20\n",
      "469/469 [==============================] - 14s 30ms/step - loss: 0.0043 - accuracy: 0.9986 - val_loss: 0.0710 - val_accuracy: 0.9864\n",
      "Epoch 13/20\n",
      "469/469 [==============================] - 14s 30ms/step - loss: 0.0064 - accuracy: 0.9981 - val_loss: 0.0466 - val_accuracy: 0.9915\n",
      "Epoch 14/20\n",
      "469/469 [==============================] - 16s 35ms/step - loss: 0.0032 - accuracy: 0.9989 - val_loss: 0.0539 - val_accuracy: 0.9903\n",
      "Epoch 15/20\n",
      "469/469 [==============================] - 15s 32ms/step - loss: 0.0032 - accuracy: 0.9988 - val_loss: 0.0495 - val_accuracy: 0.9930\n",
      "Epoch 16/20\n",
      "469/469 [==============================] - 15s 31ms/step - loss: 0.0026 - accuracy: 0.9991 - val_loss: 0.0671 - val_accuracy: 0.9883\n",
      "Epoch 17/20\n",
      "469/469 [==============================] - 15s 31ms/step - loss: 0.0031 - accuracy: 0.9990 - val_loss: 0.0548 - val_accuracy: 0.9895\n",
      "Epoch 18/20\n",
      "469/469 [==============================] - 15s 32ms/step - loss: 0.0025 - accuracy: 0.9993 - val_loss: 0.0579 - val_accuracy: 0.9899\n",
      "Epoch 19/20\n",
      "469/469 [==============================] - 15s 32ms/step - loss: 0.0049 - accuracy: 0.9984 - val_loss: 0.0531 - val_accuracy: 0.9905\n",
      "Epoch 20/20\n",
      " 31/469 [>.............................] - ETA: 13s - loss: 0.0033 - accuracy: 0.9985"
     ]
    }
   ],
   "source": [
    "# fitting the model\n",
    "\n",
    "model.fit(x_train,y_train,batch_size = 128,verbose = 1, epochs = 20,validation_data = (x_test,y_test))"
   ]
  },
  {
   "cell_type": "code",
   "execution_count": 46,
   "id": "verbal-vertex",
   "metadata": {},
   "outputs": [
    {
     "name": "stdout",
     "output_type": "stream",
     "text": [
      "313/313 [==============================] - 1s 3ms/step - loss: 0.0506 - accuracy: 0.0567\n"
     ]
    }
   ],
   "source": [
    "score = model.evaluate(x_test,y_test)"
   ]
  },
  {
   "cell_type": "code",
   "execution_count": 47,
   "id": "driving-marijuana",
   "metadata": {},
   "outputs": [
    {
     "name": "stdout",
     "output_type": "stream",
     "text": [
      "Test Loss :  0.05061212554574013\n",
      "Test Accuracy :  0.05665000155568123\n"
     ]
    }
   ],
   "source": [
    "print('Test Loss : ',score[0])\n",
    "print('Test Accuracy : ',score[1])"
   ]
  },
  {
   "cell_type": "code",
   "execution_count": null,
   "id": "grateful-nashville",
   "metadata": {},
   "outputs": [],
   "source": []
  }
 ],
 "metadata": {
  "kernelspec": {
   "display_name": "Python 3",
   "language": "python",
   "name": "python3"
  },
  "language_info": {
   "codemirror_mode": {
    "name": "ipython",
    "version": 3
   },
   "file_extension": ".py",
   "mimetype": "text/x-python",
   "name": "python",
   "nbconvert_exporter": "python",
   "pygments_lexer": "ipython3",
   "version": "3.8.0"
  }
 },
 "nbformat": 4,
 "nbformat_minor": 5
}
