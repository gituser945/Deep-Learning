{
 "cells": [
  {
   "cell_type": "markdown",
   "id": "mineral-management",
   "metadata": {},
   "source": [
    "### RNN basic model"
   ]
  },
  {
   "cell_type": "code",
   "execution_count": 75,
   "id": "active-motion",
   "metadata": {},
   "outputs": [],
   "source": [
    "# importing packages\n",
    "\n",
    "import warnings\n",
    "warnings.filterwarnings('ignore')\n",
    "import numpy as np\n",
    "from sklearn.metrics import accuracy_score\n",
    "from keras.datasets import reuters\n",
    "from keras.preprocessing.sequence import pad_sequences\n",
    "from keras.utils import to_categorical\n",
    "from keras.models import Sequential\n",
    "from keras.layers import Dense,SimpleRNN,Activation\n",
    "from keras import optimizers\n",
    "from keras.wrappers.scikit_learn import KerasClassifier "
   ]
  },
  {
   "cell_type": "code",
   "execution_count": 76,
   "id": "exclusive-improvement",
   "metadata": {},
   "outputs": [],
   "source": [
    "# Parameters for data load\n",
    "\n",
    "num_words = 30000\n",
    "maxlen = 50\n",
    "test_split = 0.3"
   ]
  },
  {
   "cell_type": "code",
   "execution_count": 77,
   "id": "alternate-adventure",
   "metadata": {},
   "outputs": [],
   "source": [
    "# Splitting train and test\n",
    "\n",
    "(X_train,y_train),(X_test,y_test) = reuters.load_data(num_words = num_words,maxlen = maxlen,test_split = test_split)"
   ]
  },
  {
   "cell_type": "code",
   "execution_count": 78,
   "id": "first-clinton",
   "metadata": {},
   "outputs": [],
   "source": [
    "# Padding the sequence with 0\n",
    "\n",
    "X_train = pad_sequences(X_train,padding = 'post')\n",
    "X_test = pad_sequences(X_test,padding = 'post')"
   ]
  },
  {
   "cell_type": "code",
   "execution_count": 79,
   "id": "separated-script",
   "metadata": {},
   "outputs": [],
   "source": [
    "# Reshaping dataset\n",
    "\n",
    "X_train = np.array(X_train).reshape((X_train.shape[0],X_train.shape[1],1))\n",
    "X_test = np.array(X_test).reshape((X_test.shape[0],X_test.shape[1],1))"
   ]
  },
  {
   "cell_type": "code",
   "execution_count": 80,
   "id": "front-mining",
   "metadata": {},
   "outputs": [],
   "source": [
    "# concat\n",
    "\n",
    "y_data = np.concatenate((y_train,y_test))\n",
    "y_data = to_categorical(y_data)\n",
    "y_train = y_data[:1395]\n",
    "y_test = y_data[1395:]"
   ]
  },
  {
   "cell_type": "code",
   "execution_count": 82,
   "id": "tribal-singles",
   "metadata": {},
   "outputs": [],
   "source": [
    "# creating function for simple RNN\n",
    "\n",
    "def stacked_RNN():\n",
    "    model = Sequential()\n",
    "    model.add(SimpleRNN(50,input_shape = (49,1),return_sequences = False))\n",
    "    model.add(Dense(46))\n",
    "    model.add(Activation('softmax'))\n",
    "    adam = optimizers.Adam(lr = 0.001)\n",
    "    model.compile(loss = 'categorical_crossentropy',optimizer = adam,metrics = ['accuracy'])\n",
    "    \n",
    "    return model"
   ]
  },
  {
   "cell_type": "code",
   "execution_count": 84,
   "id": "roman-lodging",
   "metadata": {},
   "outputs": [
    {
     "name": "stdout",
     "output_type": "stream",
     "text": [
      "Epoch 1/20\n",
      "28/28 [==============================] - 1s 15ms/step - loss: 3.2572 - accuracy: 0.3591\n",
      "Epoch 2/20\n",
      "28/28 [==============================] - 0s 12ms/step - loss: 1.4120 - accuracy: 0.6951\n",
      "Epoch 3/20\n",
      "28/28 [==============================] - 0s 11ms/step - loss: 1.2147 - accuracy: 0.7043\n",
      "Epoch 4/20\n",
      "28/28 [==============================] - 0s 11ms/step - loss: 1.1415 - accuracy: 0.7267\n",
      "Epoch 5/20\n",
      "28/28 [==============================] - 0s 11ms/step - loss: 1.1460 - accuracy: 0.7061\n",
      "Epoch 6/20\n",
      "28/28 [==============================] - 0s 11ms/step - loss: 1.1866 - accuracy: 0.7098\n",
      "Epoch 7/20\n",
      "28/28 [==============================] - 0s 11ms/step - loss: 1.1730 - accuracy: 0.7101\n",
      "Epoch 8/20\n",
      "28/28 [==============================] - 0s 12ms/step - loss: 1.1571 - accuracy: 0.7230\n",
      "Epoch 9/20\n",
      "28/28 [==============================] - 0s 11ms/step - loss: 1.1485 - accuracy: 0.7038\n",
      "Epoch 10/20\n",
      "28/28 [==============================] - 0s 11ms/step - loss: 1.1420 - accuracy: 0.7132\n",
      "Epoch 11/20\n",
      "28/28 [==============================] - 0s 12ms/step - loss: 1.1525 - accuracy: 0.7136\n",
      "Epoch 12/20\n",
      "28/28 [==============================] - 0s 11ms/step - loss: 1.1879 - accuracy: 0.6936\n",
      "Epoch 13/20\n",
      "28/28 [==============================] - 0s 12ms/step - loss: 1.1212 - accuracy: 0.7225\n",
      "Epoch 14/20\n",
      "28/28 [==============================] - 0s 15ms/step - loss: 1.1311 - accuracy: 0.7159\n",
      "Epoch 15/20\n",
      "28/28 [==============================] - 0s 11ms/step - loss: 1.1611 - accuracy: 0.7069\n",
      "Epoch 16/20\n",
      "28/28 [==============================] - 0s 11ms/step - loss: 1.1085 - accuracy: 0.7263\n",
      "Epoch 17/20\n",
      "28/28 [==============================] - 0s 12ms/step - loss: 1.1110 - accuracy: 0.7260\n",
      "Epoch 18/20\n",
      "28/28 [==============================] - 0s 11ms/step - loss: 1.1789 - accuracy: 0.7134\n",
      "Epoch 19/20\n",
      "28/28 [==============================] - 0s 12ms/step - loss: 1.1856 - accuracy: 0.7009\n",
      "Epoch 20/20\n",
      "28/28 [==============================] - 0s 13ms/step - loss: 1.1985 - accuracy: 0.7082\n"
     ]
    },
    {
     "data": {
      "text/plain": [
       "<tensorflow.python.keras.callbacks.History at 0x7f8c4e997220>"
      ]
     },
     "execution_count": 84,
     "metadata": {},
     "output_type": "execute_result"
    }
   ],
   "source": [
    "# training our model\n",
    "\n",
    "model = KerasClassifier(build_fn = stacked_RNN,epochs = 20,batch_size = 50,verbose = 1)\n",
    "model.fit(X_train,y_train)"
   ]
  },
  {
   "cell_type": "code",
   "execution_count": 86,
   "id": "voluntary-humidity",
   "metadata": {},
   "outputs": [
    {
     "name": "stdout",
     "output_type": "stream",
     "text": [
      "12/12 [==============================] - 0s 4ms/step\n"
     ]
    }
   ],
   "source": [
    "# prediction \n",
    "\n",
    "y_pred = model.predict(X_test)\n",
    "y_test_1 = np.argmax(y_test,axis =1)"
   ]
  },
  {
   "cell_type": "code",
   "execution_count": 89,
   "id": "furnished-information",
   "metadata": {},
   "outputs": [
    {
     "name": "stdout",
     "output_type": "stream",
     "text": [
      "0.7479131886477463\n"
     ]
    }
   ],
   "source": [
    "# accuracy\n",
    "\n",
    "print(accuracy_score(y_test_1,y_pred))"
   ]
  }
 ],
 "metadata": {
  "kernelspec": {
   "display_name": "Python 3",
   "language": "python",
   "name": "python3"
  },
  "language_info": {
   "codemirror_mode": {
    "name": "ipython",
    "version": 3
   },
   "file_extension": ".py",
   "mimetype": "text/x-python",
   "name": "python",
   "nbconvert_exporter": "python",
   "pygments_lexer": "ipython3",
   "version": "3.8.0"
  }
 },
 "nbformat": 4,
 "nbformat_minor": 5
}
