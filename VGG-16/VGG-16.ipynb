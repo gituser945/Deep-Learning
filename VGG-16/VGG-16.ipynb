{
 "cells": [
  {
   "cell_type": "markdown",
   "id": "noted-power",
   "metadata": {},
   "source": [
    "### VGG-16 Implementation"
   ]
  },
  {
   "cell_type": "code",
   "execution_count": 4,
   "id": "architectural-funds",
   "metadata": {},
   "outputs": [],
   "source": [
    "# Loading important packages\n",
    "\n",
    "import numpy as np\n",
    "from glob import glob\n",
    "from keras.layers import Conv2D,Dense,Flatten,MaxPooling2D\n",
    "from keras.models import Model\n",
    "from keras.applications.vgg16 import VGG16\n",
    "from keras.applications.vgg16 import preprocess_input\n",
    "from keras.preprocessing import image\n",
    "from keras.preprocessing.image import ImageDataGenerator\n",
    "from keras.models import Sequential\n",
    "from keras import optimizers"
   ]
  },
  {
   "cell_type": "code",
   "execution_count": 5,
   "id": "floppy-league",
   "metadata": {},
   "outputs": [],
   "source": [
    "# selecting images size\n",
    "\n",
    "IMAGE_SIZE = [224,224,3]"
   ]
  },
  {
   "cell_type": "code",
   "execution_count": 6,
   "id": "relative-handle",
   "metadata": {},
   "outputs": [],
   "source": [
    "# loading train and test dataset path\n",
    "\n",
    "train_path = '/Users/nick/Desktop/DataScience/DeepLearning/VGG-16/data/train/'\n",
    "test_path = '/Users/nick/Desktop/DataScience/DeepLearning/VGG-16/data/test/'"
   ]
  },
  {
   "cell_type": "code",
   "execution_count": 7,
   "id": "automatic-gibson",
   "metadata": {},
   "outputs": [],
   "source": [
    "# loading Model and we are using weights from imagenet model\n",
    "\n",
    "vgg = VGG16(input_shape = IMAGE_SIZE, weights = 'imagenet', include_top = False)"
   ]
  },
  {
   "cell_type": "code",
   "execution_count": 8,
   "id": "compliant-amazon",
   "metadata": {},
   "outputs": [
    {
     "name": "stdout",
     "output_type": "stream",
     "text": [
      "4\n"
     ]
    }
   ],
   "source": [
    "# getting total folders\n",
    "\n",
    "folders = glob('/Users/nick/Desktop/DataScience/DeepLearning/VGG-16/data/train/*')\n",
    "print(len(folders))"
   ]
  },
  {
   "cell_type": "code",
   "execution_count": 9,
   "id": "proud-designation",
   "metadata": {},
   "outputs": [
    {
     "name": "stdout",
     "output_type": "stream",
     "text": [
      "Model: \"model\"\n",
      "_________________________________________________________________\n",
      "Layer (type)                 Output Shape              Param #   \n",
      "=================================================================\n",
      "input_1 (InputLayer)         [(None, 224, 224, 3)]     0         \n",
      "_________________________________________________________________\n",
      "block1_conv1 (Conv2D)        (None, 224, 224, 64)      1792      \n",
      "_________________________________________________________________\n",
      "block1_conv2 (Conv2D)        (None, 224, 224, 64)      36928     \n",
      "_________________________________________________________________\n",
      "block1_pool (MaxPooling2D)   (None, 112, 112, 64)      0         \n",
      "_________________________________________________________________\n",
      "block2_conv1 (Conv2D)        (None, 112, 112, 128)     73856     \n",
      "_________________________________________________________________\n",
      "block2_conv2 (Conv2D)        (None, 112, 112, 128)     147584    \n",
      "_________________________________________________________________\n",
      "block2_pool (MaxPooling2D)   (None, 56, 56, 128)       0         \n",
      "_________________________________________________________________\n",
      "block3_conv1 (Conv2D)        (None, 56, 56, 256)       295168    \n",
      "_________________________________________________________________\n",
      "block3_conv2 (Conv2D)        (None, 56, 56, 256)       590080    \n",
      "_________________________________________________________________\n",
      "block3_conv3 (Conv2D)        (None, 56, 56, 256)       590080    \n",
      "_________________________________________________________________\n",
      "block3_pool (MaxPooling2D)   (None, 28, 28, 256)       0         \n",
      "_________________________________________________________________\n",
      "block4_conv1 (Conv2D)        (None, 28, 28, 512)       1180160   \n",
      "_________________________________________________________________\n",
      "block4_conv2 (Conv2D)        (None, 28, 28, 512)       2359808   \n",
      "_________________________________________________________________\n",
      "block4_conv3 (Conv2D)        (None, 28, 28, 512)       2359808   \n",
      "_________________________________________________________________\n",
      "block4_pool (MaxPooling2D)   (None, 14, 14, 512)       0         \n",
      "_________________________________________________________________\n",
      "block5_conv1 (Conv2D)        (None, 14, 14, 512)       2359808   \n",
      "_________________________________________________________________\n",
      "block5_conv2 (Conv2D)        (None, 14, 14, 512)       2359808   \n",
      "_________________________________________________________________\n",
      "block5_conv3 (Conv2D)        (None, 14, 14, 512)       2359808   \n",
      "_________________________________________________________________\n",
      "block5_pool (MaxPooling2D)   (None, 7, 7, 512)         0         \n",
      "_________________________________________________________________\n",
      "flatten (Flatten)            (None, 25088)             0         \n",
      "_________________________________________________________________\n",
      "dense (Dense)                (None, 4)                 100356    \n",
      "=================================================================\n",
      "Total params: 14,815,044\n",
      "Trainable params: 14,815,044\n",
      "Non-trainable params: 0\n",
      "_________________________________________________________________\n"
     ]
    }
   ],
   "source": [
    "# creating model\n",
    "\n",
    "x = Flatten()(vgg.output)\n",
    "prediction = Dense(len(folders),activation = 'softmax')(x)\n",
    "model = Model(inputs = vgg.input,outputs = prediction)\n",
    "model.summary()"
   ]
  },
  {
   "cell_type": "code",
   "execution_count": 10,
   "id": "hungry-treasure",
   "metadata": {},
   "outputs": [],
   "source": [
    "# creating own SGD\n",
    "\n",
    "sgd = optimizers.SGD(learning_rate = 0.01,decay = 1e-6,momentum = 0.9)"
   ]
  },
  {
   "cell_type": "code",
   "execution_count": 11,
   "id": "understanding-symposium",
   "metadata": {},
   "outputs": [],
   "source": [
    "# compiling the model\n",
    "\n",
    "model.compile(loss = 'categorical_crossentropy',optimizer = sgd,metrics = ['accuracy'])"
   ]
  },
  {
   "cell_type": "code",
   "execution_count": 12,
   "id": "textile-monster",
   "metadata": {},
   "outputs": [
    {
     "name": "stdout",
     "output_type": "stream",
     "text": [
      "Found 475 images belonging to 4 classes.\n",
      "Found 264 images belonging to 4 classes.\n"
     ]
    }
   ],
   "source": [
    "# creating train and test set\n",
    "\n",
    "datagen = ImageDataGenerator(rescale = 1.0/255.00)\n",
    "train_set = datagen.flow_from_directory(train_path,batch_size = 64,target_size = (224,224))\n",
    "test_set = datagen.flow_from_directory(test_path,batch_size = 64,target_size = (224,224))"
   ]
  },
  {
   "cell_type": "code",
   "execution_count": 13,
   "id": "noted-peace",
   "metadata": {},
   "outputs": [],
   "source": [
    "# Data Augumentation basically used to increase the stability of the model\n",
    "\n",
    "train_data = ImageDataGenerator(preprocessing_function = preprocess_input,rotation_range = 40,\n",
    "                               shear_range=0.2,zoom_range=0.2,width_shift_range=0.2,height_shift_range=0.2,\n",
    "                               horizontal_flip=True)"
   ]
  },
  {
   "cell_type": "code",
   "execution_count": 14,
   "id": "criminal-launch",
   "metadata": {},
   "outputs": [
    {
     "name": "stderr",
     "output_type": "stream",
     "text": [
      "/Users/nick/opt/anaconda3/envs/Tensorflow/lib/python3.8/site-packages/PIL/Image.py:962: UserWarning: Palette images with Transparency expressed in bytes should be converted to RGBA images\n",
      "  warnings.warn(\n"
     ]
    },
    {
     "name": "stdout",
     "output_type": "stream",
     "text": [
      "5/5 [==============================] - ETA: 0s - loss: 4.2423 - accuracy: 0.2889  WARNING:tensorflow:Your input ran out of data; interrupting training. Make sure that your dataset or generator can generate at least `steps_per_epoch * epochs` batches (in this case, 30 batches). You may need to use the repeat() function when building your dataset.\n",
      "5/5 [==============================] - 438s 89s/step - loss: 4.2962 - accuracy: 0.2891 - val_loss: 1.5272 - val_accuracy: 0.2538\n"
     ]
    },
    {
     "data": {
      "text/plain": [
       "<tensorflow.python.keras.callbacks.History at 0x7f98c7dea040>"
      ]
     },
     "execution_count": 14,
     "metadata": {},
     "output_type": "execute_result"
    }
   ],
   "source": [
    "# fitting the model\n",
    "\n",
    "model.fit(train_set,\n",
    "          steps_per_epoch = 5,\n",
    "          epochs = 1,\n",
    "          validation_data = test_set,\n",
    "          validation_steps = 30)"
   ]
  }
 ],
 "metadata": {
  "kernelspec": {
   "display_name": "Python 3",
   "language": "python",
   "name": "python3"
  },
  "language_info": {
   "codemirror_mode": {
    "name": "ipython",
    "version": 3
   },
   "file_extension": ".py",
   "mimetype": "text/x-python",
   "name": "python",
   "nbconvert_exporter": "python",
   "pygments_lexer": "ipython3",
   "version": "3.8.0"
  }
 },
 "nbformat": 4,
 "nbformat_minor": 5
}
